{
 "cells": [
  {
   "cell_type": "markdown",
   "id": "a50715a3-941b-42b9-8279-eddc6bcbca00",
   "metadata": {},
   "source": [
    "## 꼭 알아야할 자료 구조 : 배열 (Array)"
   ]
  },
  {
   "cell_type": "markdown",
   "id": "4d9f8c0c-fb51-4cd5-b33a-3c7cb21c0d88",
   "metadata": {},
   "source": [
    "- 데이터를 나열하고, 각 데이터를 인덱스에 대응하도록 구성한 구조\n",
    "- 파이썬은 리스트 타입이 배열 기능을 제공하고 있다."
   ]
  },
  {
   "cell_type": "markdown",
   "id": "ec853adf-794b-45bf-a6b0-8bcd47a7e0f2",
   "metadata": {},
   "source": [
    "## 배열이 왜 필요할까?\n",
    "\n",
    "- 같은 종류의 데이터를 효율적으로 관리하기 위해 사용\n",
    "- 보통 배열은 같은 종류의 데이터를 순차적으로 저장한다."
   ]
  },
  {
   "cell_type": "markdown",
   "id": "10acdd4f-a0e9-43e9-9c05-4c9ae3b7717e",
   "metadata": {},
   "source": [
    "- 배열의 장점:\n",
    "    - 빠른 접근 가능(인덱스 번호가 있어 배열의 주소값만 있다면 굉장히 빠르게 접근이 가능하다.)\n",
    "- 배열의 단점:\n",
    "    - 연관된 데이터의 추가가 어렵다.\n",
    "    - 배열 중간에 있는 데이터를 지운 후 뒤에 있는 데이터를 앞으로 당겨야한다.\n",
    "    - 즉, 데이터 추가/삭제가 쉽지 않다."
   ]
  },
  {
   "cell_type": "code",
   "execution_count": null,
   "id": "580434b7-15be-4514-bafd-d384a5fe9e2c",
   "metadata": {},
   "outputs": [],
   "source": []
  },
  {
   "cell_type": "code",
   "execution_count": null,
   "id": "51a08e61-5c97-42d5-8d0c-db640157197c",
   "metadata": {},
   "outputs": [],
   "source": []
  }
 ],
 "metadata": {
  "kernelspec": {
   "display_name": "Python 3",
   "language": "python",
   "name": "python3"
  },
  "language_info": {
   "codemirror_mode": {
    "name": "ipython",
    "version": 3
   },
   "file_extension": ".py",
   "mimetype": "text/x-python",
   "name": "python",
   "nbconvert_exporter": "python",
   "pygments_lexer": "ipython3",
   "version": "3.7.10"
  }
 },
 "nbformat": 4,
 "nbformat_minor": 5
}
