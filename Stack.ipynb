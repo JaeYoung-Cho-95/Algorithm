{
 "cells": [
  {
   "cell_type": "markdown",
   "id": "b4b18f0a-c611-4f7d-b183-60a48a7051d8",
   "metadata": {},
   "source": [
    "# 꼭 알아둬야할 자료 구조 : 스택(Stack)\n",
    "- 데이터를 제한적으로 접근할 수 있는 구조\n",
    "    - 한쪽 끝에서만 자료를 넣거나 뺄 수 잇는 구조\n",
    "- 가장 나중에 쌓은 데이터를 가장 먼저 빼낼 수 있는 데이터 구조\n",
    "    - 큐 : FIFO 정책\n",
    "    - 스택 : LIFO 정책"
   ]
  },
  {
   "cell_type": "markdown",
   "id": "3ddb42b6-3ff8-4ae7-ae5a-cbf7291ea302",
   "metadata": {},
   "source": [
    "### 1. 스택 구조\n",
    "- 스택은 LIFO(Last in First Out) 또는 FILO 데이터 관리 방식을 따른다.\n",
    "    - LIFO : 마지막에 넣은 데이터를 가장 먼저 추출하는 데이터 관리 정책\n",
    "    - FILO : 처음에 넣은 데이터를 마지막에 추출하는 데이터 관리 정책\n",
    "- 대표적인 스택의 활용\n",
    "    - 컴퓨터 내부의 프로세스 구조의 함수 동작 방식\n",
    "- 주요 기능\n",
    "    - push() : 데이터를 스택에 넣기\n",
    "    - pop() : 데이터를 스택에서 꺼내기"
   ]
  },
  {
   "cell_type": "markdown",
   "id": "47b297dd-0057-4f85-9798-69eea1927248",
   "metadata": {},
   "source": [
    "### 2. 스택 구조와 프로세스 스택\n",
    "- 스택 구조는 프로세스 실행 구조의 가장 기본\n",
    "    - 함수 호출 시 프로세스 실행 구조를 스택과 비교해서 이해 필요"
   ]
  },
  {
   "cell_type": "code",
   "execution_count": 3,
   "id": "650631e4-05da-49f9-9547-b4af457c3aec",
   "metadata": {},
   "outputs": [],
   "source": [
    "def recursive(data):\n",
    "    if data < 0:\n",
    "        print(\"ended\")\n",
    "    else:\n",
    "        print(data)\n",
    "        recursive(data - 1)\n",
    "        print(\"returned\",data)"
   ]
  },
  {
   "cell_type": "code",
   "execution_count": 4,
   "id": "f54a3228-62f0-4dd0-a44b-5e13ba744162",
   "metadata": {},
   "outputs": [
    {
     "name": "stdout",
     "output_type": "stream",
     "text": [
      "4\n",
      "3\n",
      "2\n",
      "1\n",
      "0\n",
      "ended\n",
      "returned 0\n",
      "returned 1\n",
      "returned 2\n",
      "returned 3\n",
      "returned 4\n"
     ]
    }
   ],
   "source": [
    "recursive(4)"
   ]
  },
  {
   "cell_type": "markdown",
   "id": "5e493eaf-1e36-47a3-8600-eea775271cf1",
   "metadata": {},
   "source": [
    "### 3. 자료 구조 스택의 장단점\n",
    "- 장점\n",
    "    - 구조가 단순해서, 구현이 쉽다.\n",
    "    - 데이터 저장/읽기 속도가 빠르다.\n",
    "- 단점(일반적인 스택 구현시)\n",
    "    - 데이터 최대 갯수를 미리 정해야 한다.\n",
    "        - 파이썬의 경우 재귀 함수는 1000번까지만 호출이 가능함\n",
    "    - 저장 공간의 낭비가 발생할 수 있다.\n",
    "        - 미리 최대 갯수만큼 저장 공간을 확보해야 한다.\n",
    "        \n",
    "> 스택은 단순하고 빠른 성능을 위해 사용되므로, 보통 배열 구조를 활용해서 구현하는 것이 일반적이다. 위에서 열거한 단점이 있을 수 있다."
   ]
  },
  {
   "cell_type": "markdown",
   "id": "ccf69bfb-8998-4dc3-872e-c654bd983684",
   "metadata": {},
   "source": [
    "### 4. 파이썬 리스트 기능에서 제공하는 메서드로 스택 사용해보기\n",
    "- append(), pop() 두 가지 사용하면 된다"
   ]
  },
  {
   "cell_type": "code",
   "execution_count": 5,
   "id": "2d59fcad-3b45-4d10-9b10-72b97f3e6fa0",
   "metadata": {},
   "outputs": [],
   "source": [
    "data_stack = list()\n",
    "\n",
    "data_stack.append(1)\n",
    "data_stack.append(2)"
   ]
  },
  {
   "cell_type": "code",
   "execution_count": 6,
   "id": "f60c50df-98b6-479d-beb4-fa3a6f2e58d7",
   "metadata": {},
   "outputs": [
    {
     "data": {
      "text/plain": [
       "[1, 2]"
      ]
     },
     "execution_count": 6,
     "metadata": {},
     "output_type": "execute_result"
    }
   ],
   "source": [
    "data_stack"
   ]
  },
  {
   "cell_type": "code",
   "execution_count": 8,
   "id": "dfc3d197-e385-4f9c-a327-74b9dd1a91ff",
   "metadata": {},
   "outputs": [
    {
     "data": {
      "text/plain": [
       "1"
      ]
     },
     "execution_count": 8,
     "metadata": {},
     "output_type": "execute_result"
    }
   ],
   "source": [
    "# Last in First out 확인할 수 있다.\n",
    "data_stack.pop()"
   ]
  },
  {
   "cell_type": "markdown",
   "id": "e35da810-0cf3-4157-b106-0e61603bfa27",
   "metadata": {},
   "source": [
    "### 5. 프로그래밍 연습"
   ]
  },
  {
   "cell_type": "code",
   "execution_count": 9,
   "id": "6ac4a407-c846-4694-9488-f4bee3985547",
   "metadata": {},
   "outputs": [],
   "source": [
    "stack_list = list()\n",
    "def push(data):\n",
    "    stack_list.append(data)\n",
    "    \n",
    "def pop():\n",
    "    data = stack_list[-1]\n",
    "    del stack_list[-1]\n",
    "    return data"
   ]
  },
  {
   "cell_type": "code",
   "execution_count": 10,
   "id": "1ba15813-492b-4461-a0e4-3e77d25ed6fb",
   "metadata": {},
   "outputs": [],
   "source": [
    "for index in range(10):\n",
    "    push(index)"
   ]
  },
  {
   "cell_type": "code",
   "execution_count": 11,
   "id": "c8e43182-bcb8-4a0a-b706-a366807e497f",
   "metadata": {},
   "outputs": [
    {
     "data": {
      "text/plain": [
       "[0, 1, 2, 3, 4, 5, 6, 7, 8, 9]"
      ]
     },
     "execution_count": 11,
     "metadata": {},
     "output_type": "execute_result"
    }
   ],
   "source": [
    "stack_list"
   ]
  },
  {
   "cell_type": "code",
   "execution_count": 12,
   "id": "273d3efb-9b0f-4e36-a497-826ec610c955",
   "metadata": {},
   "outputs": [
    {
     "data": {
      "text/plain": [
       "9"
      ]
     },
     "execution_count": 12,
     "metadata": {},
     "output_type": "execute_result"
    }
   ],
   "source": [
    "pop()"
   ]
  },
  {
   "cell_type": "code",
   "execution_count": 13,
   "id": "65ad8a86-87f6-462c-9b57-96e9f575db5f",
   "metadata": {},
   "outputs": [
    {
     "data": {
      "text/plain": [
       "8"
      ]
     },
     "execution_count": 13,
     "metadata": {},
     "output_type": "execute_result"
    }
   ],
   "source": [
    "pop()"
   ]
  },
  {
   "cell_type": "code",
   "execution_count": 14,
   "id": "030fb5a3-5279-4622-8ba3-7e23869ebf83",
   "metadata": {},
   "outputs": [
    {
     "data": {
      "text/plain": [
       "7"
      ]
     },
     "execution_count": 14,
     "metadata": {},
     "output_type": "execute_result"
    }
   ],
   "source": [
    "pop()"
   ]
  },
  {
   "cell_type": "code",
   "execution_count": null,
   "id": "9600f524-2c76-4975-be60-c9751dc54ba5",
   "metadata": {},
   "outputs": [],
   "source": []
  }
 ],
 "metadata": {
  "kernelspec": {
   "display_name": "Python 3",
   "language": "python",
   "name": "python3"
  },
  "language_info": {
   "codemirror_mode": {
    "name": "ipython",
    "version": 3
   },
   "file_extension": ".py",
   "mimetype": "text/x-python",
   "name": "python",
   "nbconvert_exporter": "python",
   "pygments_lexer": "ipython3",
   "version": "3.8.5"
  }
 },
 "nbformat": 4,
 "nbformat_minor": 5
}
