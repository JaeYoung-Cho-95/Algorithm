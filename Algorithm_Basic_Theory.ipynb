{
 "cells": [
  {
   "cell_type": "code",
   "execution_count": 3,
   "id": "59227190-74d3-4188-91f8-3c572d5dbb1a",
   "metadata": {},
   "outputs": [
    {
     "name": "stdout",
     "output_type": "stream",
     "text": [
      "3.8.5 (default, Sep  3 2020, 21:29:08) [MSC v.1916 64 bit (AMD64)]\n"
     ]
    }
   ],
   "source": [
    "import sys\n",
    "\n",
    "print(sys.version)"
   ]
  },
  {
   "cell_type": "code",
   "execution_count": 1,
   "id": "9cf3be2d-6c7c-4d96-8168-6f6ec2d3d78f",
   "metadata": {},
   "outputs": [],
   "source": [
    "# 프로그래밍은 통암기를 하는 것이 아닌 작은 원리들을 파악하고 이해한 후 응용해가며 확장하는 것이다."
   ]
  },
  {
   "cell_type": "code",
   "execution_count": 2,
   "id": "872cf98d-a913-4aaa-ade8-17b3b66baa96",
   "metadata": {},
   "outputs": [],
   "source": [
    "# 자료 구조(데이터 구조, data structure)\n",
    "# 대량의 데이터를 효율적으로 관리할 수 있는 데이터의 구조를 의미한다.\n",
    "# 코드상에서 효율적으로 데이터를 처리하기 위해, 데이터 특성에 따라, 체계적으로 데이터를 구조화해야한다\n",
    "\n",
    "# >> 어떤 자료 구조를 사용하느냐에 따라, 코드 효율이 달라진다."
   ]
  },
  {
   "cell_type": "code",
   "execution_count": 4,
   "id": "59e623f6-7b8f-4991-9cd5-81e926cc61ac",
   "metadata": {},
   "outputs": [],
   "source": [
    "# 구조가 중요한 현실속에서의 간단한 예시\n",
    "#  1. 우편번호\n",
    "#  >> 앞의 3자리는 시, 군, 자치구를 표기, 뒤 2자리는 일련번호\n",
    "#  2. 학생관리\n",
    "#  >> 학년, 반, 번호를 학생에게 부여해서, 학생부를 관리\n",
    "\n",
    "# 위와 같은 자료구조로 인해 빠른 속도로 주소, 학생을 찾을 수 있게 된다."
   ]
  },
  {
   "cell_type": "code",
   "execution_count": 6,
   "id": "e3898a40-d567-4b86-b6b2-684de51692c8",
   "metadata": {},
   "outputs": [],
   "source": [
    "# 대표적인 컴퓨터 상에서의 자료구조\n",
    "# 1. 배열\n",
    "# 2. 스택\n",
    "# 3. 큐\n",
    "# 4. 링크드 리스트\n",
    "# 5. 해쉬 테이블\n",
    "# 6. 힙\n",
    "# 등등..."
   ]
  },
  {
   "cell_type": "code",
   "execution_count": null,
   "id": "4de2a789-d798-4374-9b29-207f99230e34",
   "metadata": {},
   "outputs": [],
   "source": []
  },
  {
   "cell_type": "code",
   "execution_count": 8,
   "id": "6a91d066-0d28-42c9-b02e-2a9a039a26f8",
   "metadata": {},
   "outputs": [],
   "source": [
    "# 알고리즘\n",
    "# 어떤 문제를 출기 위한 절차 / 방법\n",
    "# 어떤 문제에 대해, 특정한 '입력'을 넣으면, 원하는 '출력'을 얻을 수 있도록 만드는 프로그래밍\n",
    "\n",
    "# 사실 사람마다 어떤 문제를 해결하는 방법은 모두 다르다.\n",
    "# 한 문제를 풀 수 있는 다양한 방법 중 시간복잡도, 공간복잡도의 계산을 통해 효율적인 프로그래밍 방법을 찾는다."
   ]
  },
  {
   "cell_type": "code",
   "execution_count": null,
   "id": "be0cd6bb-3548-448f-b9a0-f6c61d461169",
   "metadata": {},
   "outputs": [],
   "source": []
  },
  {
   "cell_type": "code",
   "execution_count": 10,
   "id": "d1e9ea4e-15ea-43fb-bf91-85070a7abce5",
   "metadata": {},
   "outputs": [],
   "source": [
    "# 자료구조와 알고리즘이 중요한 이유\n",
    "# 어떤 자료구조와 알고리즘을 쓰느냐에 따라, 성능이 천지차이다.\n",
    "# 결국 프로그래밍을 잘 할 수 있는 기술과 역량을 익히고, 검증 할 수 있다."
   ]
  },
  {
   "cell_type": "code",
   "execution_count": null,
   "id": "feee4ee5-d1ac-4c78-af33-d6a5eb94505c",
   "metadata": {},
   "outputs": [],
   "source": []
  }
 ],
 "metadata": {
  "kernelspec": {
   "display_name": "Python 3",
   "language": "python",
   "name": "python3"
  },
  "language_info": {
   "codemirror_mode": {
    "name": "ipython",
    "version": 3
   },
   "file_extension": ".py",
   "mimetype": "text/x-python",
   "name": "python",
   "nbconvert_exporter": "python",
   "pygments_lexer": "ipython3",
   "version": "3.7.10"
  }
 },
 "nbformat": 4,
 "nbformat_minor": 5
}
