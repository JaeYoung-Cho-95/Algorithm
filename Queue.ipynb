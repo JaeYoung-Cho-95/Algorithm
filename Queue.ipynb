{
 "cells": [
  {
   "cell_type": "markdown",
   "id": "0af4a22a-79ff-403a-a71d-ad5a1ca9c456",
   "metadata": {},
   "source": [
    "# 대표적인 자료 구조4 : 큐"
   ]
  },
  {
   "cell_type": "markdown",
   "id": "86c38b62-bbb9-4899-b032-b510253ce214",
   "metadata": {},
   "source": [
    "## 1. 큐 구조\n",
    "- 가장 먼저 넣은 데이터를 가장 먼저 꺼낼 수 있는 구조\n",
    "    - 음식점에서 가장 먼저 줄을 선 사람이 제일 먼저 음식점에 입장하는 것과 동일\n",
    "    - FIFO(First in First out) 방식으로 스택과 꺼내는 순서가 반대"
   ]
  },
  {
   "cell_type": "markdown",
   "id": "49be7c2b-ea16-477b-92e6-4e1834838b5f",
   "metadata": {},
   "source": [
    "## 2. 알아둘 용어\n",
    "- Enqueue : 데이터를 넣는 기능\n",
    "- dequeue : 데이터를 꺼내는 기능"
   ]
  },
  {
   "cell_type": "markdown",
   "id": "74716d87-27f8-42ae-84ff-98d41648948a",
   "metadata": {},
   "source": [
    "## 3. 파이썬으로 Queue 사용해보기"
   ]
  },
  {
   "cell_type": "code",
   "execution_count": 11,
   "id": "212bcdcb-8ee9-4437-8f16-a91ba9525e89",
   "metadata": {},
   "outputs": [],
   "source": [
    "import queue\n",
    "\n",
    "# 디폴트는 fifo queue 가 생성\n",
    "data_queue = queue.Queue()"
   ]
  },
  {
   "cell_type": "code",
   "execution_count": 12,
   "id": "45ed8ddb-288c-43ad-999f-53cf658f956f",
   "metadata": {},
   "outputs": [
    {
     "data": {
      "text/plain": [
       "2"
      ]
     },
     "execution_count": 12,
     "metadata": {},
     "output_type": "execute_result"
    }
   ],
   "source": [
    "data_queue.put(\"asd\")\n",
    "data_queue.put(3)\n",
    "data_queue.qsize()"
   ]
  },
  {
   "cell_type": "code",
   "execution_count": 13,
   "id": "9baf1363-aede-4a6a-980b-3404f4e33e59",
   "metadata": {},
   "outputs": [
    {
     "data": {
      "text/plain": [
       "'asd'"
      ]
     },
     "execution_count": 13,
     "metadata": {},
     "output_type": "execute_result"
    }
   ],
   "source": [
    "data_queue.get()"
   ]
  },
  {
   "cell_type": "code",
   "execution_count": 14,
   "id": "0a032f05-9c78-480d-b324-dcb7ea692a00",
   "metadata": {},
   "outputs": [
    {
     "data": {
      "text/plain": [
       "1"
      ]
     },
     "execution_count": 14,
     "metadata": {},
     "output_type": "execute_result"
    }
   ],
   "source": [
    "data_queue.qsize()"
   ]
  },
  {
   "cell_type": "markdown",
   "id": "f7c5525b-66c5-47a5-af5e-de0619b456f0",
   "metadata": {},
   "source": [
    "### 참고 : 어디에 큐가 많이 쓰일까?\n",
    "- 멀티 태스킹을 위한 프로세스 스케쥴링 방식을 구현하기 위해 많이 사용된다.(운영체제 참조)\n",
    "    - 큐의 경우에는 장단점보다는 큐의 활용 예로 프로세스 스케쥴링 방식을 함께 이해하는 것이 좋다."
   ]
  },
  {
   "cell_type": "code",
   "execution_count": null,
   "id": "07735a4c-9689-44b9-9161-11fc89549863",
   "metadata": {},
   "outputs": [],
   "source": []
  },
  {
   "cell_type": "markdown",
   "id": "f39e614c-18fe-41ec-a025-3b174f2d17bf",
   "metadata": {},
   "source": [
    "# 4. 프로그래밍 연습"
   ]
  },
  {
   "cell_type": "code",
   "execution_count": 2,
   "id": "0856c483-431b-47e0-86b0-73954b4492d7",
   "metadata": {},
   "outputs": [],
   "source": [
    "queue_list = list()\n",
    "\n",
    "def enqueue(data):\n",
    "    queue_list.append(data)\n",
    "def dequeue():\n",
    "    data = queue_list[0]\n",
    "    del queue_list[0]\n",
    "    return data"
   ]
  },
  {
   "cell_type": "code",
   "execution_count": 3,
   "id": "b67c2b22-f50d-4a5d-b9f9-1796dd8d98e6",
   "metadata": {},
   "outputs": [],
   "source": [
    "for index in range(10):\n",
    "    enqueue(index)"
   ]
  },
  {
   "cell_type": "code",
   "execution_count": 5,
   "id": "e46deda1-ace6-49b9-8034-5783b5ce3f02",
   "metadata": {},
   "outputs": [
    {
     "ename": "SyntaxError",
     "evalue": "unexpected EOF while parsing (<ipython-input-5-b979d691326d>, line 1)",
     "output_type": "error",
     "traceback": [
      "\u001b[1;36m  File \u001b[1;32m\"<ipython-input-5-b979d691326d>\"\u001b[1;36m, line \u001b[1;32m1\u001b[0m\n\u001b[1;33m    len(queuq_\u001b[0m\n\u001b[1;37m              ^\u001b[0m\n\u001b[1;31mSyntaxError\u001b[0m\u001b[1;31m:\u001b[0m unexpected EOF while parsing\n"
     ]
    }
   ],
   "source": [
    "len(queue"
   ]
  },
  {
   "cell_type": "code",
   "execution_count": null,
   "id": "4b8f9d7f-a538-46bc-b56c-ca00cf1fece0",
   "metadata": {},
   "outputs": [],
   "source": []
  }
 ],
 "metadata": {
  "kernelspec": {
   "display_name": "Python 3",
   "language": "python",
   "name": "python3"
  },
  "language_info": {
   "codemirror_mode": {
    "name": "ipython",
    "version": 3
   },
   "file_extension": ".py",
   "mimetype": "text/x-python",
   "name": "python",
   "nbconvert_exporter": "python",
   "pygments_lexer": "ipython3",
   "version": "3.8.5"
  }
 },
 "nbformat": 4,
 "nbformat_minor": 5
}
